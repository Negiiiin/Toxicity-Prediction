{
 "cells": [
  {
   "cell_type": "markdown",
   "metadata": {
    "id": "EVTtH6avoVlS"
   },
   "source": [
    "## Importing Libraries"
   ]
  },
  {
   "cell_type": "code",
   "execution_count": null,
   "metadata": {
    "id": "4iZYVZPA3ALh"
   },
   "outputs": [],
   "source": [
    "import pubchempy as pcp\n",
    "import pandas as pd\n",
    "import time\n",
    "from sklearn.tree import DecisionTreeClassifier\n",
    "from sklearn.tree import export_text\n",
    "from sklearn import tree\n",
    "import graphviz\n",
    "from sklearn.model_selection import GridSearchCV\n",
    "from imblearn.metrics import geometric_mean_score\n",
    "from sklearn.ensemble import RandomForestClassifier\n",
    "from sklearn.svm import SVC\n",
    "from sklearn.neighbors import KNeighborsClassifier\n",
    "from sklearn.model_selection import GridSearchCV\n",
    "from sklearn.metrics import confusion_matrix\n",
    "from xgboost import XGBClassifier\n",
    "from sklearn.model_selection import train_test_split\n",
    "from sklearn.preprocessing import StandardScaler\n",
    "import warnings\n",
    "from sklearn.metrics import matthews_corrcoef\n",
    "from sklearn.ensemble import ExtraTreesClassifier\n",
    "from sklearn.feature_selection import SelectFromModel\n",
    "from rdkit import Chem\n",
    "from sklearn.svm import LinearSVC\n",
    "from sklearn.metrics import f1_score\n",
    "from sklearn.metrics import roc_auc_score\n",
    "from sklearn.metrics import average_precision_score\n",
    "from sklearn.metrics import accuracy_score\n",
    "from sklearn.linear_model import LogisticRegression\n",
    "import numpy as np\n",
    "import matplotlib.pyplot as plt\n",
    "import seaborn as sns\n",
    "from sklearn.feature_selection import f_classif\n",
    "from sklearn.ensemble import GradientBoostingClassifier\n",
    "from sklearn.metrics import matthews_corrcoef\n",
    "from sklearn.model_selection import train_test_split\n",
    "from sklearn.utils import class_weight\n",
    "from imblearn.over_sampling import SMOTE\n",
    "import copy\n",
    "from sklearn.model_selection import KFold\n",
    "\n",
    "import tensorflow as tf\n",
    "from tensorflow.keras import Sequential\n",
    "from tensorflow.keras.layers import Dense\n",
    "from tensorflow import keras\n",
    "\n",
    "# Apply the default theme\n",
    "sns.set_theme()\n",
    "\n",
    "warnings.filterwarnings(\"ignore\")"
   ]
  },
  {
   "cell_type": "markdown",
   "metadata": {
    "id": "Eonehxekoiid"
   },
   "source": [
    "## Getting Data Using APIs"
   ]
  },
  {
   "cell_type": "code",
   "execution_count": null,
   "metadata": {
    "id": "yYamsTbS5pK1"
   },
   "outputs": [],
   "source": [
    "df = pd.read_csv('/content/Assay List CCTE_Padilla_ZF_144hpf_TERATOSCORE_up-2022-11-07 (2).csv')\n",
    "\n",
    "# df = pd.read_csv('/content/mix test.csv')"
   ]
  },
  {
   "cell_type": "code",
   "execution_count": null,
   "metadata": {
    "colab": {
     "base_uri": "https://localhost:8080/"
    },
    "id": "mmZJKcH4S8tV",
    "outputId": "9dcddc0c-5b6f-4cd8-ed6b-8c6d7a74ddc1"
   },
   "outputs": [
    {
     "name": "stdout",
     "output_type": "stream",
     "text": [
      "Number of inactive cases is:  223\n",
      "Number of active cases is:  497\n"
     ]
    }
   ],
   "source": [
    "print(\"Number of inactive cases is: \", df.where(df[\"HIT CALL\"] == \"Inactive\").count()[0])\n",
    "print(\"Number of active cases is: \", df.where(df[\"HIT CALL\"] == \"Active\").count()[0])"
   ]
  },
  {
   "cell_type": "code",
   "execution_count": null,
   "metadata": {
    "colab": {
     "base_uri": "https://localhost:8080/"
    },
    "id": "5mHncg4z_wCD",
    "outputId": "a2f7d567-28a8-4eb5-d149-41ea174cc2b5"
   },
   "outputs": [
    {
     "data": {
      "text/plain": [
       "DTXSID               False\n",
       "PREFERRED NAME       False\n",
       "CASRN                False\n",
       "MOLECULAR FORMULA     True\n",
       "MONOISOTOPIC MASS    False\n",
       "ToxCast Active       False\n",
       "ToxCast Total        False\n",
       "% ToxCast Active     False\n",
       "HIT CALL             False\n",
       "TOP                   True\n",
       "SCALED TOP            True\n",
       "AC50                  True\n",
       "LOGAC50               True\n",
       "dtype: bool"
      ]
     },
     "execution_count": 5,
     "metadata": {},
     "output_type": "execute_result"
    }
   ],
   "source": [
    "df.isnull().any()"
   ]
  },
  {
   "cell_type": "code",
   "execution_count": null,
   "metadata": {
    "id": "KpR8HKaZ-4-s"
   },
   "outputs": [],
   "source": [
    "df = df.drop(columns=[\"ToxCast Active\", \"ToxCast Total\", \"% ToxCast Active\", \"CASRN\", \"TOP\", \"SCALED TOP\", \"LOGAC50\", \"AC50\", \"DTXSID\", 'MOLECULAR FORMULA', 'MONOISOTOPIC MASS'])"
   ]
  },
  {
   "cell_type": "code",
   "execution_count": null,
   "metadata": {
    "colab": {
     "base_uri": "https://localhost:8080/",
     "height": 143
    },
    "id": "p5xs5_k7WZjl",
    "outputId": "e349b5d5-fa30-4276-b670-a26c8ed0924f"
   },
   "outputs": [
    {
     "data": {
      "text/html": [
       "\n",
       "  <div id=\"df-fb6fcc37-4e79-413d-965c-9ee0c9270226\">\n",
       "    <div class=\"colab-df-container\">\n",
       "      <div>\n",
       "<style scoped>\n",
       "    .dataframe tbody tr th:only-of-type {\n",
       "        vertical-align: middle;\n",
       "    }\n",
       "\n",
       "    .dataframe tbody tr th {\n",
       "        vertical-align: top;\n",
       "    }\n",
       "\n",
       "    .dataframe thead th {\n",
       "        text-align: right;\n",
       "    }\n",
       "</style>\n",
       "<table border=\"1\" class=\"dataframe\">\n",
       "  <thead>\n",
       "    <tr style=\"text-align: right;\">\n",
       "      <th></th>\n",
       "      <th>PREFERRED NAME</th>\n",
       "      <th>HIT CALL</th>\n",
       "    </tr>\n",
       "  </thead>\n",
       "  <tbody>\n",
       "    <tr>\n",
       "      <th>0</th>\n",
       "      <td>Sodium L-ascorbate</td>\n",
       "      <td>Active</td>\n",
       "    </tr>\n",
       "    <tr>\n",
       "      <th>1</th>\n",
       "      <td>Chlorothalonil</td>\n",
       "      <td>Active</td>\n",
       "    </tr>\n",
       "    <tr>\n",
       "      <th>2</th>\n",
       "      <td>Acifluorfen</td>\n",
       "      <td>Inactive</td>\n",
       "    </tr>\n",
       "  </tbody>\n",
       "</table>\n",
       "</div>\n",
       "      <button class=\"colab-df-convert\" onclick=\"convertToInteractive('df-fb6fcc37-4e79-413d-965c-9ee0c9270226')\"\n",
       "              title=\"Convert this dataframe to an interactive table.\"\n",
       "              style=\"display:none;\">\n",
       "        \n",
       "  <svg xmlns=\"http://www.w3.org/2000/svg\" height=\"24px\"viewBox=\"0 0 24 24\"\n",
       "       width=\"24px\">\n",
       "    <path d=\"M0 0h24v24H0V0z\" fill=\"none\"/>\n",
       "    <path d=\"M18.56 5.44l.94 2.06.94-2.06 2.06-.94-2.06-.94-.94-2.06-.94 2.06-2.06.94zm-11 1L8.5 8.5l.94-2.06 2.06-.94-2.06-.94L8.5 2.5l-.94 2.06-2.06.94zm10 10l.94 2.06.94-2.06 2.06-.94-2.06-.94-.94-2.06-.94 2.06-2.06.94z\"/><path d=\"M17.41 7.96l-1.37-1.37c-.4-.4-.92-.59-1.43-.59-.52 0-1.04.2-1.43.59L10.3 9.45l-7.72 7.72c-.78.78-.78 2.05 0 2.83L4 21.41c.39.39.9.59 1.41.59.51 0 1.02-.2 1.41-.59l7.78-7.78 2.81-2.81c.8-.78.8-2.07 0-2.86zM5.41 20L4 18.59l7.72-7.72 1.47 1.35L5.41 20z\"/>\n",
       "  </svg>\n",
       "      </button>\n",
       "      \n",
       "  <style>\n",
       "    .colab-df-container {\n",
       "      display:flex;\n",
       "      flex-wrap:wrap;\n",
       "      gap: 12px;\n",
       "    }\n",
       "\n",
       "    .colab-df-convert {\n",
       "      background-color: #E8F0FE;\n",
       "      border: none;\n",
       "      border-radius: 50%;\n",
       "      cursor: pointer;\n",
       "      display: none;\n",
       "      fill: #1967D2;\n",
       "      height: 32px;\n",
       "      padding: 0 0 0 0;\n",
       "      width: 32px;\n",
       "    }\n",
       "\n",
       "    .colab-df-convert:hover {\n",
       "      background-color: #E2EBFA;\n",
       "      box-shadow: 0px 1px 2px rgba(60, 64, 67, 0.3), 0px 1px 3px 1px rgba(60, 64, 67, 0.15);\n",
       "      fill: #174EA6;\n",
       "    }\n",
       "\n",
       "    [theme=dark] .colab-df-convert {\n",
       "      background-color: #3B4455;\n",
       "      fill: #D2E3FC;\n",
       "    }\n",
       "\n",
       "    [theme=dark] .colab-df-convert:hover {\n",
       "      background-color: #434B5C;\n",
       "      box-shadow: 0px 1px 3px 1px rgba(0, 0, 0, 0.15);\n",
       "      filter: drop-shadow(0px 1px 2px rgba(0, 0, 0, 0.3));\n",
       "      fill: #FFFFFF;\n",
       "    }\n",
       "  </style>\n",
       "\n",
       "      <script>\n",
       "        const buttonEl =\n",
       "          document.querySelector('#df-fb6fcc37-4e79-413d-965c-9ee0c9270226 button.colab-df-convert');\n",
       "        buttonEl.style.display =\n",
       "          google.colab.kernel.accessAllowed ? 'block' : 'none';\n",
       "\n",
       "        async function convertToInteractive(key) {\n",
       "          const element = document.querySelector('#df-fb6fcc37-4e79-413d-965c-9ee0c9270226');\n",
       "          const dataTable =\n",
       "            await google.colab.kernel.invokeFunction('convertToInteractive',\n",
       "                                                     [key], {});\n",
       "          if (!dataTable) return;\n",
       "\n",
       "          const docLinkHtml = 'Like what you see? Visit the ' +\n",
       "            '<a target=\"_blank\" href=https://colab.research.google.com/notebooks/data_table.ipynb>data table notebook</a>'\n",
       "            + ' to learn more about interactive tables.';\n",
       "          element.innerHTML = '';\n",
       "          dataTable['output_type'] = 'display_data';\n",
       "          await google.colab.output.renderOutput(dataTable, element);\n",
       "          const docLink = document.createElement('div');\n",
       "          docLink.innerHTML = docLinkHtml;\n",
       "          element.appendChild(docLink);\n",
       "        }\n",
       "      </script>\n",
       "    </div>\n",
       "  </div>\n",
       "  "
      ],
      "text/plain": [
       "       PREFERRED NAME  HIT CALL\n",
       "0  Sodium L-ascorbate    Active\n",
       "1      Chlorothalonil    Active\n",
       "2         Acifluorfen  Inactive"
      ]
     },
     "execution_count": 7,
     "metadata": {},
     "output_type": "execute_result"
    }
   ],
   "source": [
    "df.dropna(inplace=True)\n",
    "df.head(3)"
   ]
  },
  {
   "cell_type": "code",
   "execution_count": null,
   "metadata": {
    "colab": {
     "background_save": true
    },
    "id": "m2uJNatl6czo"
   },
   "outputs": [],
   "source": [
    "compounds = []\n",
    "for i in df[\"PREFERRED NAME\"]:\n",
    "  try:\n",
    "    compounds.append(pcp.get_compounds(i, 'name'))\n",
    "    time.sleep(0.5)\n",
    "  except TypeError or URLError:\n",
    "    print(i)"
   ]
  },
  {
   "cell_type": "code",
   "execution_count": null,
   "metadata": {
    "id": "fIrW6maE6mVr"
   },
   "outputs": [],
   "source": [
    "df['compounds'] = compounds\n",
    "df.head(3)"
   ]
  },
  {
   "cell_type": "code",
   "execution_count": null,
   "metadata": {
    "id": "w33dZYq8CuZr"
   },
   "outputs": [],
   "source": [
    "df = df.where(df[\"compounds\"].str.len() == 1).dropna()"
   ]
  },
  {
   "cell_type": "code",
   "execution_count": null,
   "metadata": {
    "id": "JIYsN4i3DGQ5"
   },
   "outputs": [],
   "source": [
    "for index, row in df.iterrows():\n",
    "  c = row[\"compounds\"][0]\n",
    "  df.loc[index, 'Hydrogen_Bond_Donor_Count'] = c.h_bond_donor_count\n",
    "  df.loc[index, 'Hydrogen_Bond_Acceptor_Count'] = c.h_bond_acceptor_count\n",
    "  df.loc[index, 'Formal_Charge'] = c.charge\n",
    "  df.loc[index, 'Mw'] = c.molecular_weight\n",
    "  df.loc[index, 'canonical_smiles'] = c.canonical_smiles\n",
    "  df.loc[index, 'xlogp'] = c.xlogp\n",
    "  df.loc[index, 'exact_mass'] = c.exact_mass"
   ]
  },
  {
   "cell_type": "code",
   "execution_count": null,
   "metadata": {
    "id": "2k2DEr6FqkPm"
   },
   "outputs": [],
   "source": [
    "df[\"Formal_Charge\"].plot()"
   ]
  },
  {
   "cell_type": "code",
   "execution_count": null,
   "metadata": {
    "id": "5nV3lkS9zB-z"
   },
   "outputs": [],
   "source": [
    "df = df.drop(columns=['Formal_Charge'])"
   ]
  },
  {
   "cell_type": "code",
   "execution_count": null,
   "metadata": {
    "id": "SswNd4wAg7Lk"
   },
   "outputs": [],
   "source": [
    "mols = []\n",
    "df.dropna()\n",
    "from rdkit.Chem import AllChem, MACCSkeys, Descriptors\n",
    "for smiles in df[\"canonical_smiles\"]:\n",
    "  mol = Chem.MolFromSmiles(smiles)\n",
    "  mols.append(mol)\n",
    "\n",
    "df[\"mol\"] = mols\n",
    "\n",
    "for index, row in df.iterrows():\n",
    "  mol = row[\"mol\"]\n",
    "  df.loc[index,'NumHeteroatoms'] = Descriptors.NumHeteroatoms(mol)\n",
    "  df.loc[index,'NumRotatableBonds'] = Descriptors.NumRotatableBonds(mol)\n",
    "  df.loc[index,'NumHeavyAtoms'] = Descriptors.HeavyAtomCount (mol)\n",
    "  df.loc[index,'NumAliphaticCarbocycles'] = Descriptors.NumAliphaticCarbocycles(mol)\n",
    "  df.loc[index,'NumAliphaticHeterocycles'] = Descriptors.NumAliphaticHeterocycles(mol)\n",
    "  df.loc[index,'NumAliphaticRings'] = Descriptors.NumAliphaticRings(mol)\n",
    "  df.loc[index,'NumAromaticCarbocycles'] = Descriptors.NumAromaticCarbocycles(mol)\n",
    "  df.loc[index,'NumAromaticHeterocycles'] = Descriptors.NumAromaticHeterocycles(mol)\n",
    "  df.loc[index,'NumAromaticRings'] = Descriptors.NumAromaticRings(mol)\n",
    "  df.loc[index,'RingCount'] = Descriptors.RingCount(mol)\n",
    "  df.loc[index,'FractionCSP3'] = Descriptors.FractionCSP3(mol)\n",
    "  df.loc[index,'NHOHCount'] = Descriptors.NHOHCount(mol)\n",
    "  df.loc[index,'NOCount'] = Descriptors.NOCount(mol)\n",
    "  df.loc[index,'NumValenceElectrons'] = Descriptors.NumValenceElectrons(mol)\n",
    "  df.loc[index,'TPSA'] = Descriptors.TPSA(mol)"
   ]
  },
  {
   "cell_type": "code",
   "execution_count": null,
   "metadata": {
    "id": "VfojEFvZSnuW"
   },
   "outputs": [],
   "source": [
    "df.dropna(inplace=True)\n",
    "df.head(3)"
   ]
  },
  {
   "cell_type": "code",
   "execution_count": null,
   "metadata": {
    "id": "5jxYHsf_rRUz"
   },
   "outputs": [],
   "source": [
    "print(\"Number of inactive cases is: \\t\", df.where(df[\"HIT CALL\"] == \"Inactive\").dropna().count()[0])\n",
    "print(\"Number of active cases is: \\t\", df.where(df[\"HIT CALL\"] == \"Active\").dropna().count()[0])"
   ]
  },
  {
   "cell_type": "markdown",
   "metadata": {
    "id": "o_IXZ-rNo0IO"
   },
   "source": [
    "## Cleaning Data and Data Visualization"
   ]
  },
  {
   "cell_type": "code",
   "execution_count": null,
   "metadata": {
    "id": "fg4guGtZBLrZ"
   },
   "outputs": [],
   "source": [
    "df['Mw'] = df['Mw'].map(lambda x: float(x))\n",
    "df['exact_mass'] = df['exact_mass'].map(lambda x: float(x))"
   ]
  },
  {
   "cell_type": "code",
   "execution_count": null,
   "metadata": {
    "id": "p-C3FNL-WAg8"
   },
   "outputs": [],
   "source": [
    "features = ['Hydrogen_Bond_Donor_Count',\n",
    " 'Hydrogen_Bond_Acceptor_Count',\n",
    " 'Mw',\n",
    " 'xlogp',\n",
    " 'NumHeteroatoms',\n",
    " 'NumRotatableBonds',\n",
    " 'NumHeavyAtoms',\n",
    " 'NumAliphaticCarbocycles',\n",
    " 'NumAliphaticHeterocycles',\n",
    " 'NumAliphaticRings',\n",
    " 'NumAromaticCarbocycles',\n",
    " 'NumAromaticHeterocycles',\n",
    " 'NumAromaticRings',\n",
    " 'RingCount',\n",
    " 'FractionCSP3',\n",
    " 'NHOHCount',\n",
    " 'NOCount',\n",
    " 'NumValenceElectrons',\n",
    " 'TPSA']"
   ]
  },
  {
   "cell_type": "code",
   "execution_count": null,
   "metadata": {
    "id": "6rSPcpfZcUa-"
   },
   "outputs": [],
   "source": [
    "df.to_csv(\"final_output.csv\")"
   ]
  },
  {
   "cell_type": "code",
   "execution_count": null,
   "metadata": {
    "id": "poJDzSvUw5F7"
   },
   "outputs": [],
   "source": [
    "for f in features:\n",
    "  print(f, \" stdv: \\t\\t\\t\\t\", df[f].std())"
   ]
  },
  {
   "cell_type": "code",
   "execution_count": null,
   "metadata": {
    "id": "MUxwuJjlGheK"
   },
   "outputs": [],
   "source": [
    "df['Mw'].corr(df['exact_mass'])"
   ]
  },
  {
   "cell_type": "code",
   "execution_count": null,
   "metadata": {
    "id": "UDrlT04xnWjO"
   },
   "outputs": [],
   "source": [
    "corr_matrix = df.corr()\n",
    "\n",
    "fig, ax = plt.subplots(figsize=(10,10))\n",
    "sns.color_palette(\"PiYG\", as_cmap=True)\n",
    "sns.heatmap(corr_matrix, cmap = \"PiYG\")\n",
    "plt.title('Correlation Heatmap')\n",
    "plt.show()"
   ]
  },
  {
   "cell_type": "code",
   "execution_count": null,
   "metadata": {
    "id": "NlmZ1nKlJ_e2"
   },
   "outputs": [],
   "source": [
    "df = df.drop(columns=['PREFERRED NAME', 'mol', 'canonical_smiles', 'compounds', 'exact_mass'])"
   ]
  },
  {
   "cell_type": "code",
   "execution_count": null,
   "metadata": {
    "id": "ubSnCK6gdlmJ"
   },
   "outputs": [],
   "source": [
    "df.to_csv(\"final_output.csv\")"
   ]
  },
  {
   "cell_type": "code",
   "execution_count": null,
   "metadata": {
    "id": "4OdPj9DPicoN"
   },
   "outputs": [],
   "source": [
    "print(df.groupby(\"HIT CALL\").mean())"
   ]
  },
  {
   "cell_type": "code",
   "execution_count": null,
   "metadata": {
    "id": "UP7vmk63lYrJ"
   },
   "outputs": [],
   "source": [
    "numerical_features = [\n",
    "    'NumHeteroatoms', 'NumValenceElectrons', 'NOCount', 'Hydrogen_Bond_Acceptor_Count', 'NumAromaticRings', 'NHOHCount', 'RingCount', 'NumAliphaticRings', \n",
    "    'NumAromaticHeterocycles', 'NumAromaticCarbocycles', 'NumAliphaticHeterocycles', 'NumAliphaticCarbocycles', 'NumHeavyAtoms', 'NumRotatableBonds'\n",
    "]"
   ]
  },
  {
   "cell_type": "code",
   "execution_count": null,
   "metadata": {
    "id": "s8jdcd7wpaSv"
   },
   "outputs": [],
   "source": [
    "for f in numerical_features:\n",
    "  sns.displot(data=df, x=f, col=\"HIT CALL\", kde=True)"
   ]
  },
  {
   "cell_type": "markdown",
   "metadata": {
    "id": "xSACOwSbiVLG"
   },
   "source": [
    "## Feature Engineering"
   ]
  },
  {
   "cell_type": "code",
   "execution_count": null,
   "metadata": {
    "id": "CncpIeTtUavQ"
   },
   "outputs": [],
   "source": [
    "def has_feature(feature):\n",
    "  if feature > 0:\n",
    "    return 1\n",
    "  else:\n",
    "    return 0"
   ]
  },
  {
   "cell_type": "code",
   "execution_count": null,
   "metadata": {
    "id": "HBKrSUbwsJCY"
   },
   "outputs": [],
   "source": [
    "new_features = []\n",
    "for f in numerical_features:\n",
    "  new_name = \"Has\"\n",
    "  if 'Count' in f:\n",
    "    new_name = f.replace(\"Count\", \"\")\n",
    "  elif 'Num' in f:\n",
    "    new_name = f.replace(\"Num\", \"\")\n",
    "  new_features.append(new_name)\n",
    "  df[new_name] = df[f].apply(has_feature)"
   ]
  },
  {
   "cell_type": "code",
   "execution_count": null,
   "metadata": {
    "id": "N_bIXBQRsI_7"
   },
   "outputs": [],
   "source": [
    "total_features = new_features + features"
   ]
  },
  {
   "cell_type": "code",
   "execution_count": null,
   "metadata": {
    "id": "-0iTCyEzm6ld"
   },
   "outputs": [],
   "source": [
    "X = df[total_features]\n",
    "y = df[\"HIT CALL\"]\n",
    "\n",
    "y = y.replace(\"Active\", 1)\n",
    "y = y.replace(\"Inactive\", 0)"
   ]
  },
  {
   "cell_type": "code",
   "execution_count": null,
   "metadata": {
    "id": "ZKeeRO9lnA0X"
   },
   "outputs": [],
   "source": [
    "scaler = StandardScaler()\n",
    "stand_X = copy.deepcopy(X)\n",
    "stand_X[features] = scaler.fit_transform(X[features])\n",
    "stand_X = pd.DataFrame(stand_X, index=X.index, columns=X.columns)"
   ]
  },
  {
   "cell_type": "code",
   "execution_count": null,
   "metadata": {
    "id": "crjxypa_nXXY"
   },
   "outputs": [],
   "source": [
    "X_train_stand, X_test_stand, y_train_stand, y_test_stand = train_test_split(stand_X, y, test_size=0.3, random_state=42)\n",
    "X_train, X_test, y_train, y_test = train_test_split(X, y, test_size=0.3, random_state=42)"
   ]
  },
  {
   "cell_type": "code",
   "execution_count": null,
   "metadata": {
    "id": "qIlV-CRhqnTN"
   },
   "outputs": [],
   "source": [
    "df.to_csv('final_output.csv')"
   ]
  },
  {
   "cell_type": "markdown",
   "metadata": {
    "id": "koFfb5AaIzQs"
   },
   "source": [
    "## Feature Selection"
   ]
  },
  {
   "cell_type": "markdown",
   "metadata": {
    "id": "ZK9I9V42Uk4l"
   },
   "source": [
    "### ANOVA (Analysis of Variance)"
   ]
  },
  {
   "cell_type": "code",
   "execution_count": null,
   "metadata": {
    "id": "cRpNn5sBUkOA"
   },
   "outputs": [],
   "source": [
    "f_values, p_values = f_classif(X_train_stand, y_train_stand)\n",
    "\n",
    "# Create a DataFrame with feature scores and p-values\n",
    "scores_df = pd.DataFrame({'Feature': X_train_stand.columns, 'F-Score': f_values, 'p-value': p_values})\n",
    "\n",
    "# Sort the features by F-Score in descending order\n",
    "scores_df = scores_df.sort_values(by='F-Score', ascending=False)\n",
    "\n",
    "# Print the sorted DataFrame\n",
    "print(scores_df)"
   ]
  },
  {
   "cell_type": "markdown",
   "metadata": {
    "id": "unYKm0wII_8V"
   },
   "source": [
    "### Desicion Tree"
   ]
  },
  {
   "cell_type": "code",
   "execution_count": null,
   "metadata": {
    "id": "lo-kmWrd7G5r"
   },
   "outputs": [],
   "source": [
    "tree_clf = ExtraTreesClassifier()\n",
    "tree_clf = tree_clf.fit(X_train, y_train)"
   ]
  },
  {
   "cell_type": "code",
   "execution_count": null,
   "metadata": {
    "id": "ULXMBCCXGbvL"
   },
   "outputs": [],
   "source": [
    "tree_feature_selection = pd.DataFrame({\"features\": X_train.columns.to_list(), \"Importance\": tree_clf.feature_importances_.tolist()}).sort_values(by=\"Importance\", ascending=False)\n",
    "print(tree_feature_selection)"
   ]
  },
  {
   "cell_type": "code",
   "execution_count": null,
   "metadata": {
    "id": "ptQ7f5c74XFp"
   },
   "outputs": [],
   "source": [
    "tree_features = tree_feature_selection.where(tree_feature_selection[\"Importance\"] > 0.050).dropna()['features'].to_list()"
   ]
  },
  {
   "cell_type": "markdown",
   "metadata": {
    "id": "ge8VBQ50hS9l"
   },
   "source": [
    "### L2 Feature Selection"
   ]
  },
  {
   "cell_type": "code",
   "execution_count": null,
   "metadata": {
    "id": "DM__YAtu9HI8"
   },
   "outputs": [],
   "source": [
    "lr = LinearSVC(C=1, penalty=\"l2\").fit(X_train_stand, y_train_stand)\n",
    "sel = SelectFromModel(lr, prefit=True)"
   ]
  },
  {
   "cell_type": "code",
   "execution_count": null,
   "metadata": {
    "id": "m0vR4ad4Ie_U"
   },
   "outputs": [],
   "source": [
    "SVC_feature_selection = pd.DataFrame({\"features\": X_train.columns.to_list(), \"Importance\": sel.get_support().tolist()})\n",
    "print(SVC_feature_selection.sort_values(by=\"Importance\", ascending=False))"
   ]
  },
  {
   "cell_type": "code",
   "execution_count": null,
   "metadata": {
    "id": "ZApFu33DCbeb"
   },
   "outputs": [],
   "source": [
    "L2_features = SVC_feature_selection.where(SVC_feature_selection[\"Importance\"] == True).dropna()['features'].to_list()"
   ]
  },
  {
   "cell_type": "markdown",
   "metadata": {
    "id": "H-fYr3RnoJuX"
   },
   "source": [
    "## Building Models"
   ]
  },
  {
   "cell_type": "markdown",
   "metadata": {
    "id": "EVMkmAekpRX-"
   },
   "source": [
    "### Using Class Weightening"
   ]
  },
  {
   "cell_type": "code",
   "execution_count": null,
   "metadata": {
    "id": "YtnHBf_3u0jP"
   },
   "outputs": [],
   "source": [
    "# Calculate class weights\n",
    "class_weights = class_weight.compute_class_weight(class_weight = 'balanced', classes = np.unique(y_train), y = y_train)\n",
    "\n",
    "gb_classifier = GradientBoostingClassifier()\n",
    "gb_classifier.fit(X_train, y_train, sample_weight = list(map(lambda x: class_weights[1] if x == 1 else class_weights[0], y_train)))\n",
    "y_pred = gb_classifier.predict(X_test)\n",
    "mcc_score = matthews_corrcoef(y_test, y_pred)\n",
    "\n",
    "print(\"MCC score on the test set: {:.2f}\".format(mcc_score))"
   ]
  },
  {
   "cell_type": "markdown",
   "metadata": {
    "id": "9xChUbNspmZ1"
   },
   "source": [
    "### Oversampling"
   ]
  },
  {
   "cell_type": "code",
   "execution_count": null,
   "metadata": {
    "id": "Voq-2nPonC5d"
   },
   "outputs": [],
   "source": [
    "smote = SMOTE(sampling_strategy='minority')\n",
    "X_sm, y_sm = smote.fit_resample(X, y)\n",
    "\n",
    "print(y_sm.value_counts())"
   ]
  },
  {
   "cell_type": "code",
   "execution_count": null,
   "metadata": {
    "id": "rZ6nF61svzNO"
   },
   "outputs": [],
   "source": [
    "smote = SMOTE(sampling_strategy='minority')\n",
    "stand_X_sm, stand_y_sm = smote.fit_resample(stand_X, y)\n",
    "\n",
    "stand_y_sm.value_counts()"
   ]
  },
  {
   "cell_type": "code",
   "execution_count": null,
   "metadata": {
    "id": "I_46iYtexKW4"
   },
   "outputs": [],
   "source": [
    "X_train_sm, X_test_sm, y_train_sm, y_test_sm = train_test_split(X_sm, y_sm, test_size=0.3, random_state=42)\n",
    "stand_X_train_sm, stand_X_test_sm, stand_y_train_sm, stand_y_test_sm = train_test_split(stand_X_sm, stand_y_sm, test_size=0.3, random_state=42)"
   ]
  },
  {
   "cell_type": "markdown",
   "metadata": {
    "id": "ulaUxLXOrQty"
   },
   "source": [
    "### Adding Cross Validation"
   ]
  },
  {
   "cell_type": "markdown",
   "metadata": {
    "id": "tcnY2zCWzU8r"
   },
   "source": [
    "#### Functions"
   ]
  },
  {
   "cell_type": "code",
   "execution_count": null,
   "metadata": {
    "id": "_U6T0GXvu0eE"
   },
   "outputs": [],
   "source": [
    "def GradientBoostingClassifier_function(selected_features=total_features):\n",
    "  # class_weights = class_weight.compute_class_weight(class_weight = 'balanced', classes = np.unique(y_train), y = y_train)\n",
    "  # print(\"class_weights: \", class_weights)\n",
    "\n",
    "  model = GradientBoostingClassifier()\n",
    "\n",
    "  param_grid = {\n",
    "      'n_estimators': [50, 100, 200],\n",
    "      'learning_rate': [0.1, 0.05, 0.01],\n",
    "      'max_depth': [3, 4, 5]\n",
    "  }\n",
    "\n",
    "  # Perform grid search with cross-validation\n",
    "  gb_classifier = GridSearchCV(estimator=model, param_grid=param_grid, cv=5)\n",
    "  gb_classifier.fit(X_train_sm, y_train_sm)\n",
    "\n",
    "  # Print the best hyperparameters and the corresponding accuracy score\n",
    "  print('Best hyperparameters:', gb_classifier.best_params_)\n",
    "\n",
    "\n",
    "  # gb_classifier = GradientBoostingClassifier()\n",
    "\n",
    "  kf = KFold(n_splits=10, shuffle=True, random_state=42)\n",
    "  scores = np.zeros(10)\n",
    "\n",
    "  for i, (train_index, test_index) in enumerate(kf.split(X_train_sm[selected_features])):\n",
    "      X_train_fk, X_test_fk = X_train_sm[selected_features].iloc[train_index], X_train_sm[selected_features].iloc[test_index]\n",
    "      y_train_fk, y_test_fk = y_train_sm.iloc[train_index], y_train_sm.iloc[test_index]\n",
    "      \n",
    "      # Fit the model on the training data\n",
    "      # gb_classifier.fit(X_train_fk, y_train_fk, sample_weight=list(map(lambda x: class_weights[1] if x == 1 else class_weights[0], y_train_fk)))\n",
    "      gb_classifier.fit(X_train_fk, y_train_fk)\n",
    "      \n",
    "      # Calculate the score on the test data and store it\n",
    "      score = gb_classifier.score(X_test_fk, y_test_fk)\n",
    "      scores[i] = score\n",
    "      \n",
    "  # Print the cross-validation scores and the average score\n",
    "  # print(\"Cross-validation scores:\", scores)\n",
    "  # print(\"Average score:\", np.mean(scores))\n",
    "\n",
    "  y_pred = gb_classifier.predict(X_test_sm[selected_features])\n",
    "  mcc_score = matthews_corrcoef(y_test_sm, y_pred)\n",
    "\n",
    "  print(\"MCC score on the test set for GradientBoostingClassifier is: {:.2f}\".format(mcc_score))"
   ]
  },
  {
   "cell_type": "code",
   "execution_count": null,
   "metadata": {
    "id": "8eJp73SPxQXT"
   },
   "outputs": [],
   "source": [
    "def KNN_function(selected_features=total_features):\n",
    "\n",
    "  model = KNeighborsClassifier()\n",
    "\n",
    "  param_grid = {'n_neighbors': [3, 5, 7, 9],\n",
    "              'metrix': ['manhattan', 'euclidean', 'cosine', 'minkowski'],\n",
    "              'algorithm': ['auto', 'ball_tree', 'kd_tree', 'brute']\n",
    "              }\n",
    "\n",
    "  # Perform grid search with cross-validation\n",
    "  knn_classifier = GridSearchCV(estimator=model, param_grid=param_grid, cv=5)\n",
    "  knn_classifier.fit(X_train_sm, y_train_sm)\n",
    "\n",
    "  # Print the best hyperparameters and the corresponding accuracy score\n",
    "  print('Best hyperparameters:', knn_classifier.best_params_)\n",
    "\n",
    "  # knn_classifier = KNeighborsClassifier()\n",
    "\n",
    "  kf = KFold(n_splits=10, shuffle=True, random_state=42)\n",
    "  scores = np.zeros(10)\n",
    "\n",
    "  for i, (train_index, test_index) in enumerate(kf.split(stand_X_train_sm[selected_features])):\n",
    "      X_train_fk, X_test_fk = stand_X_train_sm[selected_features].iloc[train_index], stand_X_train_sm[selected_features].iloc[test_index]\n",
    "      y_train_fk, y_test_fk = y_train_sm.iloc[train_index], y_train_sm.iloc[test_index]\n",
    "      \n",
    "      knn_classifier.fit(X_train_fk, y_train_fk)\n",
    "\n",
    "      score = knn_classifier.score(X_test_fk, y_test_fk)\n",
    "      scores[i] = score\n",
    "\n",
    "  y_pred = knn_classifier.predict(stand_X_test_sm[selected_features])\n",
    "  mcc_score = matthews_corrcoef(y_test_sm, y_pred)\n",
    "\n",
    "  print(\"MCC score on the test set for KNNClassifier is: {:.2f}\".format(mcc_score))"
   ]
  },
  {
   "cell_type": "code",
   "execution_count": null,
   "metadata": {
    "id": "44ifNi52yU38"
   },
   "outputs": [],
   "source": [
    "def LogisticRegression_function(selected_features=total_features):\n",
    "\n",
    "  model = LogisticRegression()\n",
    "\n",
    "  # Define the parameter grid\n",
    "  param_grid = {\n",
    "      'penalty': ['l1', 'l2', 'elasticnet', 'none'],\n",
    "      'C': [0.1, 1, 10],\n",
    "      'solver': ['newton-cg', 'lbfgs', 'liblinear', 'sag', 'saga']\n",
    "  }\n",
    "\n",
    "  # Perform grid search with cross-validation\n",
    "  lr_classifier = GridSearchCV(estimator=model, param_grid=param_grid, cv=5)\n",
    "  lr_classifier.fit(X_train_sm, y_train_sm)\n",
    "\n",
    "  # Print the best hyperparameters and the corresponding accuracy score\n",
    "  print('Best hyperparameters:', lr_classifier.best_params_)\n",
    "\n",
    "\n",
    "  # lr_classifier = LogisticRegression()\n",
    "\n",
    "  kf = KFold(n_splits=10, shuffle=True, random_state=42)\n",
    "  scores = np.zeros(10)\n",
    "\n",
    "  for i, (train_index, test_index) in enumerate(kf.split(X_train_sm[selected_features])):\n",
    "      X_train_fk, X_test_fk = X_train_sm[selected_features].iloc[train_index], X_train_sm[selected_features].iloc[test_index]\n",
    "      y_train_fk, y_test_fk = y_train_sm.iloc[train_index], y_train_sm.iloc[test_index]\n",
    "      \n",
    "      lr_classifier.fit(X_train_fk, y_train_fk)\n",
    "\n",
    "      score = lr_classifier.score(X_test_fk, y_test_fk)\n",
    "      scores[i] = score\n",
    "\n",
    "  y_pred = lr_classifier.predict(X_test_sm[selected_features])\n",
    "  mcc_score = matthews_corrcoef(y_test_sm, y_pred)\n",
    "\n",
    "  print(\"MCC score on the test set for LogisticRegression is: {:.2f}\".format(mcc_score))"
   ]
  },
  {
   "cell_type": "code",
   "execution_count": null,
   "metadata": {
    "id": "Ssx7xYG3-Pbg"
   },
   "outputs": [],
   "source": [
    "from math import sqrt\n",
    "def mcc(tp, fp, tn, fn):\n",
    "    x = (tp + fp) * (tp + fn) * (tn + fp) * (tn + fn)\n",
    "    return ((tp * tn) - (fp * fn)) / sqrt(x)"
   ]
  },
  {
   "cell_type": "code",
   "execution_count": null,
   "metadata": {
    "id": "HlA6DaVT5rPi"
   },
   "outputs": [],
   "source": [
    "import matplotlib as mpl\n",
    "\n",
    "mpl.rcParams['figure.figsize'] = (12, 10)\n",
    "colors = plt.rcParams['axes.prop_cycle'].by_key()['color']\n",
    "\n",
    "\n",
    "def plot_loss(history, label, n):\n",
    "  # Use a log scale on y-axis to show the wide range of values.\n",
    "  plt.semilogy(history.epoch, history.history['loss'],\n",
    "               color=colors[n], label='Train ' + label)\n",
    "  plt.xlabel('Epoch')\n",
    "  plt.ylabel('Loss')"
   ]
  },
  {
   "cell_type": "code",
   "execution_count": null,
   "metadata": {
    "id": "BFG1loYH3IEA"
   },
   "outputs": [],
   "source": [
    "from tensorflow.keras.layers import Dense, Dropout\n",
    "from tensorflow.keras import regularizers\n",
    "\n",
    "def NN_function(selected_features=total_features):\n",
    "  # model = Sequential()\n",
    "  # # model.add(Dense(16, activation='relu', kernel_initializer='he_normal', input_shape=(33,)))\n",
    "  # # model.add(Dense(8, activation='relu'))\n",
    "  # # model.add(Dense(4, activation='relu'))\n",
    "  # # model.add(Dense(1, activation='sigmoid'))\n",
    "\n",
    "  # model.add(Dense(64, activation='relu', kernel_initializer='he_normal', input_shape=(33,), kernel_regularizer=regularizers.l2(0.01)))\n",
    "  # model.add(Dropout(0.2))\n",
    "  # model.add(Dense(32, activation='relu', kernel_regularizer=regularizers.l2(0.01)))\n",
    "  # model.add(Dropout(0.2))\n",
    "\n",
    "  # model.add(Dense(1, activation='sigmoid'))\n",
    "\n",
    "  model = Sequential([\n",
    "      Dense(64, activation='relu', input_shape=(33,)),\n",
    "      Dropout(0.2),\n",
    "      Dense(64, activation='relu'),\n",
    "      Dropout(0.2),\n",
    "      Dense(1, activation='sigmoid')\n",
    "  ])\n",
    "  \n",
    "  METRICS = [\n",
    "      tf.keras.metrics.TruePositives(name='tp'),\n",
    "      tf.keras.metrics.FalsePositives(name='fp'),\n",
    "      tf.keras.metrics.TrueNegatives(name='tn'),\n",
    "      tf.keras.metrics.FalseNegatives(name='fn'), \n",
    "      tf.keras.metrics.BinaryAccuracy(name='accuracy'),\n",
    "      tf.keras.metrics.Precision(name='precision'),\n",
    "      tf.keras.metrics.Recall(name='recall'),\n",
    "      tf.keras.metrics.AUC(name='auc'),\n",
    "      tf.keras.metrics.AUC(name='prc', curve='PR'), # precision-recall curve\n",
    "  ]\n",
    "\n",
    "  model.compile(optimizer='adam', loss='binary_crossentropy', metrics=METRICS)\n",
    "  history = model.fit(stand_X_train_sm[selected_features], stand_y_train_sm, epochs=2000, batch_size=200, verbose=0)\n",
    "\n",
    "  acc = model.evaluate(stand_X_test_sm[selected_features], stand_y_test_sm, verbose=0)\n",
    "\n",
    "  print(acc)\n",
    "  print(\"MCC score on the test set for NN is: {:.2f}\".format(mcc(acc[1], acc[2], acc[3], acc[4])))\n",
    "\n",
    "  plot_loss(history, \"LOSS\", 0)"
   ]
  },
  {
   "cell_type": "markdown",
   "metadata": {
    "id": "tAuA_TSvzaNX"
   },
   "source": [
    "#### Calling Functions"
   ]
  },
  {
   "cell_type": "code",
   "execution_count": null,
   "metadata": {
    "id": "QrDHvfylwp6I"
   },
   "outputs": [],
   "source": [
    "GradientBoostingClassifier_function()"
   ]
  },
  {
   "cell_type": "code",
   "execution_count": null,
   "metadata": {
    "id": "h8hqGyFIyH3C"
   },
   "outputs": [],
   "source": [
    "KNN_function()"
   ]
  },
  {
   "cell_type": "code",
   "execution_count": null,
   "metadata": {
    "id": "usvJZkvBzChm"
   },
   "outputs": [],
   "source": [
    "LogisticRegression_function()"
   ]
  },
  {
   "cell_type": "code",
   "execution_count": null,
   "metadata": {
    "id": "i4GYUAK3_Czs"
   },
   "outputs": [],
   "source": [
    "NN_function()"
   ]
  },
  {
   "cell_type": "markdown",
   "metadata": {
    "id": "NhKvvp3-lHpH"
   },
   "source": [
    "##### Selecting Features by a Threshold"
   ]
  },
  {
   "cell_type": "code",
   "execution_count": null,
   "metadata": {
    "id": "7vBPTE8zlHQU"
   },
   "outputs": [],
   "source": [
    "def select_features(num, sorted_features, first_or_last='first'):\n",
    "  if first_or_last == 'first':\n",
    "    return sorted_features[\"features\"][:num]\n",
    "  elif first_or_last == 'last':\n",
    "    return sorted_features[\"features\"][-1*num:]"
   ]
  },
  {
   "cell_type": "code",
   "execution_count": null,
   "metadata": {
    "colab": {
     "base_uri": "https://localhost:8080/"
    },
    "id": "vYPrOsIssLXs",
    "outputId": "466b3c8c-d7ea-4085-e9f7-82e1b69f013c"
   },
   "outputs": [
    {
     "name": "stdout",
     "output_type": "stream",
     "text": [
      "MCC score on the test set for GradientBoostingClassifier is: 0.58\n",
      "MCC score on the test set for KNNClassifier is: 0.45\n",
      "MCC score on the test set for LogisticRegression is: 0.38\n"
     ]
    }
   ],
   "source": [
    "selected_sorted_features = select_features(10, tree_feature_selection, 'first')\n",
    "GradientBoostingClassifier_function(selected_sorted_features)\n",
    "KNN_function(selected_sorted_features)\n",
    "LogisticRegression_function(selected_sorted_features)\n",
    "# NN_function(selected_sorted_features)"
   ]
  },
  {
   "cell_type": "code",
   "execution_count": null,
   "metadata": {
    "colab": {
     "base_uri": "https://localhost:8080/"
    },
    "id": "Xeog02-NBnzh",
    "outputId": "2b982d79-b0f9-462f-9fc7-5949af477e15"
   },
   "outputs": [
    {
     "name": "stdout",
     "output_type": "stream",
     "text": [
      "MCC score on the test set for GradientBoostingClassifier is: 0.34\n",
      "MCC score on the test set for KNNClassifier is: 0.05\n",
      "MCC score on the test set for LogisticRegression is: 0.32\n"
     ]
    }
   ],
   "source": [
    "selected_sorted_features = select_features(10, tree_feature_selection, 'last')\n",
    "GradientBoostingClassifier_function(selected_sorted_features)\n",
    "KNN_function(selected_sorted_features)\n",
    "LogisticRegression_function(selected_sorted_features)"
   ]
  },
  {
   "cell_type": "code",
   "execution_count": null,
   "metadata": {
    "id": "n3jfpeTEQAkH"
   },
   "outputs": [],
   "source": [
    "from tensorflow.keras.layers import Dense, Dropout\n",
    "from tensorflow.keras import regularizers\n",
    "\n",
    "def NN_function(selected_features=total_features):\n",
    "  model = Sequential()\n",
    "  model.add(Dense(25, activation='relu', kernel_initializer='he_normal', input_shape=(len(selected_features),), kernel_regularizer=regularizers.l2(0.01)))\n",
    "  model.add(Dropout(0.1))\n",
    "  model.add(Dense(15, activation='relu', kernel_regularizer=regularizers.l2(0.01)))\n",
    "  model.add(Dense(8, activation='relu', kernel_regularizer=regularizers.l2(0.01)))\n",
    "  model.add(Dropout(0.05))\n",
    "\n",
    "  model.add(Dense(1, activation='sigmoid'))\n",
    "  \n",
    "  METRICS = [\n",
    "      tf.keras.metrics.TruePositives(name='tp'),\n",
    "      tf.keras.metrics.FalsePositives(name='fp'),\n",
    "      tf.keras.metrics.TrueNegatives(name='tn'),\n",
    "      tf.keras.metrics.FalseNegatives(name='fn'), \n",
    "      tf.keras.metrics.BinaryAccuracy(name='accuracy'),\n",
    "      tf.keras.metrics.Precision(name='precision'),\n",
    "      tf.keras.metrics.Recall(name='recall'),\n",
    "      tf.keras.metrics.AUC(name='auc'),\n",
    "      tf.keras.metrics.AUC(name='prc', curve='PR'), # precision-recall curve\n",
    "  ]\n",
    "\n",
    "  model.compile(optimizer='adam', loss='binary_crossentropy', metrics=METRICS)\n",
    "  history = model.fit(stand_X_train_sm[selected_features], stand_y_train_sm, epochs=2000, batch_size=200, verbose=0)\n",
    "\n",
    "  acc = model.evaluate(stand_X_test_sm[selected_features], stand_y_test_sm, verbose=0)\n",
    "\n",
    "  print(acc)\n",
    "  print(\"MCC score on the test set for NN is: {:.2f}\".format(mcc(acc[1], acc[2], acc[3], acc[4])))\n",
    "\n",
    "  plot_loss(history, \"LOSS\", 0)"
   ]
  },
  {
   "cell_type": "code",
   "execution_count": null,
   "metadata": {
    "colab": {
     "background_save": true
    },
    "id": "SnbxJOJPQln6",
    "outputId": "f76055cc-3e8f-4f5d-bc9f-d6838441570c"
   },
   "outputs": [
    {
     "name": "stdout",
     "output_type": "stream",
     "text": [
      "[0.6316667199134827, 103.0, 17.0, 107.0, 25.0, 0.8333333134651184, 0.8583333492279053, 0.8046875, 0.8676915764808655, 0.8495879173278809]\n",
      "MCC score on the test set for NN is: 0.67\n"
     ]
    },
    {
     "data": {
      "image/png": "[encoded data removed]",
      "text/plain": [
       "<Figure size 1200x1000 with 1 Axes>"
      ]
     },
     "metadata": {},
     "output_type": "display_data"
    }
   ],
   "source": [
    "# selected_sorted_features = select_features(10, tree_feature_selection, 'first')\n",
    "NN_function_10()"
   ]
  },
  {
   "cell_type": "code",
   "execution_count": null,
   "metadata": {
    "id": "ulgnKj7cfCoa"
   },
   "outputs": [],
   "source": [
    "from tensorflow.keras.layers import Dense, Dropout\n",
    "from tensorflow.keras import regularizers\n",
    "\n",
    "def NN_function_10(selected_features=total_features):\n",
    "  model = Sequential()\n",
    "  model.add(Dense(15, activation='relu', kernel_initializer='he_normal', input_shape=(len(selected_features),), kernel_regularizer=regularizers.l2(0.01)))\n",
    "  # model.add(Dropout(0.1))\n",
    "  # model.add(Dense(15, activation='relu', kernel_regularizer=regularizers.l2(0.01)))\n",
    "  model.add(Dense(8, activation='relu', kernel_regularizer=regularizers.l2(0.01)))\n",
    "  model.add(Dropout(0.05))\n",
    "\n",
    "  model.add(Dense(1, activation='sigmoid'))\n",
    "  \n",
    "  METRICS = [\n",
    "      tf.keras.metrics.TruePositives(name='tp'),\n",
    "      tf.keras.metrics.FalsePositives(name='fp'),\n",
    "      tf.keras.metrics.TrueNegatives(name='tn'),\n",
    "      tf.keras.metrics.FalseNegatives(name='fn'), \n",
    "      tf.keras.metrics.BinaryAccuracy(name='accuracy'),\n",
    "      tf.keras.metrics.Precision(name='precision'),\n",
    "      tf.keras.metrics.Recall(name='recall'),\n",
    "      tf.keras.metrics.AUC(name='auc'),\n",
    "      tf.keras.metrics.AUC(name='prc', curve='PR'), # precision-recall curve\n",
    "  ]\n",
    "\n",
    "  model.compile(optimizer='adam', loss='binary_crossentropy', metrics=METRICS)\n",
    "  history = model.fit(stand_X_train_sm[selected_features], stand_y_train_sm, epochs=2000, batch_size=200, verbose=0)\n",
    "\n",
    "  acc = model.evaluate(stand_X_test_sm[selected_features], stand_y_test_sm, verbose=0)\n",
    "\n",
    "  print(acc)\n",
    "  print(\"MCC score on the test set for NN is: {:.2f}\".format(mcc(acc[1], acc[2], acc[3], acc[4])))\n",
    "\n",
    "  plot_loss(history, \"LOSS\", 0)"
   ]
  },
  {
   "cell_type": "code",
   "execution_count": null,
   "metadata": {
    "colab": {
     "base_uri": "https://localhost:8080/",
     "height": 646
    },
    "id": "uH5WTW83e8XO",
    "outputId": "23dabeab-2a0c-4199-c268-bf20161f71d6"
   },
   "outputs": [
    {
     "name": "stdout",
     "output_type": "stream",
     "text": [
      "[0.6675671935081482, 91.0, 67.0, 57.0, 37.0, 0.5873016119003296, 0.5759493708610535, 0.7109375, 0.6232988834381104, 0.6227648258209229]\n",
      "MCC score on the test set for NN is: 0.18\n"
     ]
    },
    {
     "data": {
      "image/png": "[encoded data removed]",
      "text/plain": [
       "<Figure size 864x720 with 1 Axes>"
      ]
     },
     "metadata": {},
     "output_type": "display_data"
    }
   ],
   "source": [
    "selected_sorted_features = select_features(10, tree_feature_selection, 'last')\n",
    "NN_function_10(selected_sorted_features)"
   ]
  },
  {
   "cell_type": "code",
   "execution_count": null,
   "metadata": {
    "colab": {
     "base_uri": "https://localhost:8080/",
     "height": 646
    },
    "id": "CBC8FIQuP41n",
    "outputId": "4c665190-0291-4fb5-e3f7-e9b471d498d5"
   },
   "outputs": [
    {
     "name": "stdout",
     "output_type": "stream",
     "text": [
      "[0.5334789752960205, 91.0, 28.0, 96.0, 37.0, 0.7420634627342224, 0.7647058963775635, 0.7109375, 0.8473411798477173, 0.8637109398841858]\n",
      "MCC score on the test set for NN is: 0.49\n"
     ]
    },
    {
     "data": {
      "image/png": "[encoded data removed]",
      "text/plain": [
       "<Figure size 864x720 with 1 Axes>"
      ]
     },
     "metadata": {},
     "output_type": "display_data"
    }
   ],
   "source": [
    "selected_sorted_features = select_features(10, tree_feature_selection, 'first')\n",
    "NN_function_10(selected_sorted_features)"
   ]
  },
  {
   "cell_type": "code",
   "execution_count": null,
   "metadata": {
    "colab": {
     "base_uri": "https://localhost:8080/"
    },
    "id": "9lVungXtBz3y",
    "outputId": "b215871f-99ea-4365-bf5a-985e0d85e3c9"
   },
   "outputs": [
    {
     "name": "stdout",
     "output_type": "stream",
     "text": [
      "t-statistic: nan\n",
      "p-value: nan\n"
     ]
    }
   ],
   "source": [
    "from scipy.stats import ttest_rel\n",
    "\n",
    "mcc_before = 0.51\n",
    "mcc_after = 0.44\n",
    "\n",
    "t_statistic, p_value = ttest_rel([mcc_before], [mcc_after])\n",
    "\n",
    "print(\"t-statistic:\", t_statistic)\n",
    "print(\"p-value:\", p_value)"
   ]
  },
  {
   "cell_type": "code",
   "execution_count": null,
   "metadata": {
    "colab": {
     "base_uri": "https://localhost:8080/"
    },
    "id": "WHew55VHuUyj",
    "outputId": "f8f7ddad-55cb-42c9-89d7-72b3ee6713bc"
   },
   "outputs": [
    {
     "data": {
      "text/plain": [
       "3"
      ]
     },
     "execution_count": 71,
     "metadata": {},
     "output_type": "execute_result"
    }
   ],
   "source": [
    "stand_X_train_sm.duplicated().sum()"
   ]
  },
  {
   "cell_type": "code",
   "execution_count": null,
   "metadata": {
    "id": "-PDGjq0vxUmI"
   },
   "outputs": [],
   "source": []
  },
  {
   "cell_type": "code",
   "execution_count": null,
   "metadata": {
    "id": "hgYdevADxUjT"
   },
   "outputs": [],
   "source": []
  },
  {
   "cell_type": "code",
   "execution_count": null,
   "metadata": {
    "id": "C-qwont8w3kY"
   },
   "outputs": [],
   "source": []
  }
 ],
 "metadata": {
  "colab": {
   "collapsed_sections": [
    "EVTtH6avoVlS",
    "Eonehxekoiid",
    "xSACOwSbiVLG",
    "koFfb5AaIzQs",
    "ZK9I9V42Uk4l",
    "unYKm0wII_8V",
    "ge8VBQ50hS9l",
    "EVMkmAekpRX-",
    "9xChUbNspmZ1",
    "sIZD9EaGk4IO"
   ],
   "provenance": []
  },
  "kernelspec": {
   "display_name": "Python 3",
   "language": "python",
   "name": "python3"
  },
  "language_info": {
   "codemirror_mode": {
    "name": "ipython",
    "version": 3
   },
   "file_extension": ".py",
   "mimetype": "text/x-python",
   "name": "python",
   "nbconvert_exporter": "python",
   "pygments_lexer": "ipython3",
   "version": "3.8.8"
  },
  "vp": {
   "vp_note_display": false,
   "vp_note_width": 0,
   "vp_section_display": false
  }
 },
 "nbformat": 4,
 "nbformat_minor": 1
}
